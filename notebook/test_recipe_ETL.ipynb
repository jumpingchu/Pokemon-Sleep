{
 "cells": [
  {
   "cell_type": "code",
   "execution_count": 3,
   "metadata": {},
   "outputs": [],
   "source": [
    "import pandas as pd"
   ]
  },
  {
   "cell_type": "code",
   "execution_count": 5,
   "metadata": {},
   "outputs": [],
   "source": [
    "RECIPE_SHEET = \"https://docs.google.com/spreadsheets/d/18aAHjg762T29F74yo8axDVFO09swCa7nUp_eTZ51ZAc/edit#gid=217056193\"\n",
    "\n",
    "def load_gsheet_data(sheets_url):\n",
    "    csv_url = sheets_url.replace(\"/edit#gid=\", \"/export?format=csv&gid=\")\n",
    "    return pd.read_csv(csv_url, on_bad_lines='skip')\n",
    "\n",
    "data = load_gsheet_data(RECIPE_SHEET)"
   ]
  },
  {
   "cell_type": "code",
   "execution_count": 6,
   "metadata": {},
   "outputs": [],
   "source": [
    "df = data.copy()\n",
    "df.dropna(axis=1, how=\"all\", inplace=True)\n",
    "df.fillna('', inplace=True)\n",
    "df.replace('無', '', inplace=True)\n",
    "\n",
    "food_list = [\n",
    "    *df['食材1'], \n",
    "    *df['食材2'],\n",
    "    *df['食材3'],\n",
    "    *df['食材4'],\n",
    "]\n",
    "food_unique_list = list(set(food_list))\n",
    "food_unique_list.remove('')\n",
    "\n",
    "df['食材1數量'] = df['食材1'] + df['食材1數量']\n",
    "df['食材2數量'] = df['食材2'] + df['食材2數量']\n",
    "df['食材3數量'] = df['食材3'] + df['食材3數量']\n",
    "df['食材4數量'] = df['食材4'] + df['食材4數量']\n",
    "df['all_food'] = df['食材1'] + df['食材2'] + df['食材3'] + df['食材4'] "
   ]
  },
  {
   "cell_type": "code",
   "execution_count": 7,
   "metadata": {},
   "outputs": [],
   "source": [
    "category_list = ['全部', '咖哩/濃湯', '沙拉', '點心/飲料']\n",
    "curry_soup_list = [\n",
    "    '特選蘋果咖哩',\n",
    "    '炙燒尾肉咖哩',\n",
    "    '太陽之力番茄咖哩',\n",
    "    '絕對睡眠奶油咖哩',\n",
    "    '辣味蔥勁十足咖哩',\n",
    "    '蘑菇孢子咖哩',\n",
    "    '親子愛咖哩',\n",
    "    '吃飽飽起司肉排咖哩',\n",
    "    '窩心白醬濃湯',\n",
    "    '單純白醬濃湯',\n",
    "    '豆製肉排咖哩',\n",
    "    '寶寶甜蜜咖哩',\n",
    "    '忍者咖哩',\n",
    "    '日照炸肉排咖哩',\n",
    "    '入口即化蛋捲咖哩',\n",
    "    '健美豆子咖哩',\n",
    "]\n",
    "\n",
    "salad_list = [\n",
    "    '呆呆獸尾巴的胡椒沙拉',\n",
    "    '蘑菇孢子沙拉',\n",
    "    '撥雪凱撒沙拉',\n",
    "    '貪吃鬼洋芋沙拉',\n",
    "    '濕潤豆腐沙拉',\n",
    "    '蠻力豪邁沙拉',\n",
    "    '豆製火腿沙拉',\n",
    "    '好眠番茄沙拉',\n",
    "    '哞哞起司番茄沙拉',\n",
    "    '心情不定肉沙拉淋巧克力醬',\n",
    "    '過熱沙拉',\n",
    "    '特選蘋果沙拉',\n",
    "    '免疫蔥花沙拉',\n",
    "    '迷人蘋果起司沙拉',\n",
    "    '忍者沙拉',\n",
    "    '熱風豆腐沙拉',\n",
    "]\n",
    "\n",
    "snack_drink_list = [\n",
    "    '熟成甜薯燒',\n",
    "    '不屈薑餅',\n",
    "    '特選蘋果汁',\n",
    "    '手製勁爽汽水',\n",
    "    '火花薑茶',\n",
    "    '胖丁百匯布丁',\n",
    "    '惡魔之吻水果牛奶',\n",
    "    '祈願蘋果派',\n",
    "    '橙夢的排毒茶',\n",
    "    '甜甜香氣巧克力蛋糕',\n",
    "    '哞哞熱鮮奶',\n",
    "    '輕裝豆香蛋糕',\n",
    "    '活力蛋白飲',\n",
    "    '我行我素蔬菜汁',\n",
    "    '大馬拉薩達',\n",
    "    '大力士豆香甜甜圈',\n",
    "]\n",
    "\n",
    "all_recipe_list = ['全部'] + curry_soup_list + salad_list + snack_drink_list"
   ]
  },
  {
   "cell_type": "code",
   "execution_count": 8,
   "metadata": {},
   "outputs": [],
   "source": [
    "def get_category(x):\n",
    "    if x in curry_soup_list:\n",
    "        return '咖哩/濃湯'\n",
    "    elif x in salad_list:\n",
    "        return '沙拉'\n",
    "    elif x in snack_drink_list:\n",
    "        return '點心/飲料'\n",
    "    else:\n",
    "        return '其他'\n",
    "\n",
    "df['分類'] = df['食譜'].apply(get_category)"
   ]
  },
  {
   "cell_type": "code",
   "execution_count": 11,
   "metadata": {},
   "outputs": [],
   "source": [
    "df.to_csv('../../data/transformed/recipe_transformed_1.csv')"
   ]
  },
  {
   "cell_type": "code",
   "execution_count": null,
   "metadata": {},
   "outputs": [],
   "source": []
  }
 ],
 "metadata": {
  "kernelspec": {
   "display_name": "Python 3",
   "language": "python",
   "name": "python3"
  },
  "language_info": {
   "codemirror_mode": {
    "name": "ipython",
    "version": 3
   },
   "file_extension": ".py",
   "mimetype": "text/x-python",
   "name": "python",
   "nbconvert_exporter": "python",
   "pygments_lexer": "ipython3",
   "version": "3.9.5"
  },
  "orig_nbformat": 4
 },
 "nbformat": 4,
 "nbformat_minor": 2
}
