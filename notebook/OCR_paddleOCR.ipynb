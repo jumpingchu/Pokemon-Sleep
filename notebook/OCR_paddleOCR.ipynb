{
 "cells": [
  {
   "cell_type": "code",
   "execution_count": null,
   "metadata": {},
   "outputs": [],
   "source": [
    "from paddleocr import PaddleOCR, draw_ocr\n",
    "from PIL import Image"
   ]
  },
  {
   "cell_type": "code",
   "execution_count": 33,
   "metadata": {},
   "outputs": [],
   "source": [
    "ocr = PaddleOCR(use_angle_cls=True, lang=\"chinese_cht\", show_log=False)  # need to run only once to download and load model into memory"
   ]
  },
  {
   "cell_type": "code",
   "execution_count": null,
   "metadata": {},
   "outputs": [],
   "source": [
    "img_path = '../img/IMG_0096.png'\n",
    "result = ocr.ocr(img_path, cls=True)\n",
    "\n",
    "result = result[0]\n",
    "image = Image.open(img_path).convert('RGB')\n",
    "boxes = [line[0] for line in result]\n",
    "txts = [line[1][0] for line in result]\n",
    "scores = [line[1][1] for line in result]\n",
    "im_show = draw_ocr(image, boxes, txts, scores, font_path='./chinese_cht.ttf')\n",
    "im_show = Image.fromarray(im_show)\n",
    "im_show.save('result.jpg')"
   ]
  },
  {
   "cell_type": "markdown",
   "metadata": {},
   "source": [
    "![result](../img/result_paddleOCR/result.jpg)"
   ]
  },
  {
   "cell_type": "code",
   "execution_count": null,
   "metadata": {},
   "outputs": [],
   "source": [
    "img_path = '../img/IMG_0097.png'\n",
    "result = ocr.ocr(img_path, cls=True)\n",
    "result = result[0]\n",
    "image = Image.open(img_path).convert('RGB')\n",
    "boxes = [line[0] for line in result]\n",
    "txts = [line[1][0] for line in result]\n",
    "scores = [line[1][1] for line in result]\n",
    "im_show = draw_ocr(image, boxes, txts, scores, font_path='./chinese_cht.ttf')\n",
    "im_show = Image.fromarray(im_show)\n",
    "im_show.save('result1.jpg')"
   ]
  },
  {
   "cell_type": "markdown",
   "metadata": {},
   "source": [
    "![result](result1.jpg)"
   ]
  },
  {
   "cell_type": "code",
   "execution_count": null,
   "metadata": {},
   "outputs": [],
   "source": [
    "img_path = '../img/IMG_0106.png'\n",
    "result = ocr.ocr(img_path, cls=True)\n",
    "result = result[0]\n",
    "image = Image.open(img_path).convert('RGB')\n",
    "boxes = [line[0] for line in result]\n",
    "txts = [line[1][0] for line in result]\n",
    "scores = [line[1][1] for line in result]\n",
    "im_show = draw_ocr(image, boxes, txts, scores, font_path='./chinese_cht.ttf')\n",
    "im_show = Image.fromarray(im_show)\n",
    "im_show.save('result2.jpg')"
   ]
  },
  {
   "cell_type": "markdown",
   "metadata": {},
   "source": [
    "![result](../img/result_paddleOCR/result2.jpg)"
   ]
  },
  {
   "cell_type": "code",
   "execution_count": null,
   "metadata": {},
   "outputs": [],
   "source": [
    "img_path = '../img/test3.png'\n",
    "result = ocr.ocr(img_path, cls=True)\n",
    "result = result[0]\n",
    "image = Image.open(img_path).convert('RGB')\n",
    "boxes = [line[0] for line in result]\n",
    "txts = [line[1][0] for line in result]\n",
    "scores = [line[1][1] for line in result]\n",
    "im_show = draw_ocr(image, boxes, txts, scores, font_path='./chinese_cht.ttf')\n",
    "im_show = Image.fromarray(im_show)\n",
    "im_show.save('result4.jpg')"
   ]
  },
  {
   "cell_type": "markdown",
   "metadata": {},
   "source": [
    "![result](../img/result_paddleOCR/result4.jpg)"
   ]
  },
  {
   "cell_type": "code",
   "execution_count": 35,
   "metadata": {},
   "outputs": [
    {
     "name": "stdout",
     "output_type": "stream",
     "text": [
      "0 22:30\n",
      "1 樹果\n",
      "2 ×1\n",
      "3 sp 378\n",
      "4 Lv. 30\n",
      "5 Lv. 60\n",
      "6 Lv.9\n",
      "7 幼基拉斯\n",
      "8 ×5\n",
      "9 ×8\n",
      "10 忙間隔\n",
      "11 每1小時18分43秒\n",
      "12 持有上限\n",
      "13 9個\n",
      "14 主技能/副技能\n",
      "15 活力填充S\n",
      "16 Lv.1\n",
      "17 自己回復活力12。\n",
      "18 Lv.10\n",
      "19 Lv.25\n",
      "20 技能機率提升S\n",
      "21 持有上限提升S\n",
      "22 Lv.50\n",
      "23 Lv.75\n",
      "24 技能等級提升S\n",
      "25 忙速度S\n",
      "26 Lv.100\n",
      "27 技能機率提升M\n",
      "28 能力详情\n",
      "29 性格\n",
      "30 食材發現率\n",
      "31 慢吞吞\n",
      "32 活力回復量\n",
      "33 返回\n"
     ]
    }
   ],
   "source": [
    "img_path = '../img/test3.png'\n",
    "result = ocr.ocr(img_path, cls=False)\n",
    "result = result[0]\n",
    "\n",
    "for idx, line in enumerate(result):\n",
    "    text = line[1][0].strip()\n",
    "    print(idx, text)"
   ]
  },
  {
   "cell_type": "code",
   "execution_count": null,
   "metadata": {},
   "outputs": [],
   "source": []
  }
 ],
 "metadata": {
  "kernelspec": {
   "display_name": "Python 3",
   "language": "python",
   "name": "python3"
  },
  "language_info": {
   "codemirror_mode": {
    "name": "ipython",
    "version": 3
   },
   "file_extension": ".py",
   "mimetype": "text/x-python",
   "name": "python",
   "nbconvert_exporter": "python",
   "pygments_lexer": "ipython3",
   "version": "3.9.5"
  },
  "orig_nbformat": 4
 },
 "nbformat": 4,
 "nbformat_minor": 2
}
