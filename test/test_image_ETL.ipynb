{
 "cells": [
  {
   "cell_type": "code",
   "execution_count": 28,
   "metadata": {},
   "outputs": [],
   "source": [
    "import requests\n",
    "from bs4 import BeautifulSoup\n",
    "import pandas as pd\n",
    "from fake_useragent import UserAgent\n",
    "\n",
    "# url = 'https://hackmd.io/@HorseCheng/B1H2IZNoi/%2F%40HorseCheng%2FBk1o7NY93'\n",
    "# url = 'https://docs.google.com/spreadsheets/d/1sZwdQqQt3LTw9C9GaInjI4ry6gn8gh0ECzhVea8XfIs/edit#gid=785506760'\n",
    "url = 'https://pinogamer.com/16427'"
   ]
  },
  {
   "cell_type": "markdown",
   "metadata": {},
   "source": [
    "## Crawl Data"
   ]
  },
  {
   "cell_type": "code",
   "execution_count": 106,
   "metadata": {},
   "outputs": [],
   "source": [
    "ua = UserAgent()\n",
    "headers = {'User-Agent': ua.random}\n",
    "resp = requests.get(url, headers=headers)\n",
    "soup = BeautifulSoup(resp.content)"
   ]
  },
  {
   "cell_type": "code",
   "execution_count": 127,
   "metadata": {},
   "outputs": [],
   "source": [
    "tables = soup.find_all('td')\n",
    "ingredients_img_link = []\n",
    "for i in tables:\n",
    "    if i.text:\n",
    "        try:\n",
    "            name = i.text.strip()\n",
    "            link = 'https:' + i.img['src']\n",
    "            ingredients_img_link.append({name: link})\n",
    "        except:\n",
    "            pass"
   ]
  },
  {
   "cell_type": "code",
   "execution_count": 128,
   "metadata": {},
   "outputs": [
    {
     "data": {
      "text/plain": [
       "[{'粗枝大蔥': 'https://cdn.kikinote.net/gallery/game/c01528895fc6b17e02f8b54324a51bb1.png'},\n",
       " {'品鮮蘑菇': 'https://cdn.kikinote.net/gallery/game/8d8fff666ad5e28cfc1e60480c7b620d.png'},\n",
       " {'特選蛋': 'https://cdn.kikinote.net/gallery/game/c1c2bb1d1ee2d85af65121b5fd59e156.png'},\n",
       " {'窩心洋芋': 'https://cdn.kikinote.net/gallery/game/98d51c5ddf61576d543375c56e64adcd.png'},\n",
       " {'特選蘋果': 'https://cdn.kikinote.net/gallery/game/8137e6714bd92715d7f9e07cb04af7b2.png'},\n",
       " {'火辣香草': 'https://cdn.kikinote.net/gallery/game/c44560973b8e6eff968442bb33748a6a.png'},\n",
       " {'豆製肉': 'https://cdn.kikinote.net/gallery/game/6b11c40a1d33e139444e9c536929a31b.png'},\n",
       " {'哞哞鮮奶': 'https://cdn.kikinote.net/gallery/game/b88926ef0f9678b1c90359a2e31840e2.png'},\n",
       " {'甜甜蜜': 'https://cdn.kikinote.net/gallery/game/9f63ac0be11bac68abb0ad29e6a60192.png'},\n",
       " {'純粹油': 'https://cdn.kikinote.net/gallery/game/4b0c122d21f98eb39540362baad93541.png'},\n",
       " {'暖暖薑': 'https://cdn.kikinote.net/gallery/game/7ceb757a54887ac91a607a486919bc55.png'},\n",
       " {'好眠番茄': 'https://cdn.kikinote.net/gallery/game/b4fb74d1be02ed20ad35bd4697af5171.png'},\n",
       " {'放鬆可可': 'https://cdn.kikinote.net/gallery/game/53c426a02bab0101d7c8f448151453f5.png'},\n",
       " {'美味尾巴': 'https://cdn.kikinote.net/gallery/game/3d6b933ed6528aedc942ffedb87ad9bd.png'},\n",
       " {'萌綠大豆': 'https://cdn.kikinote.net/gallery/game/d6eefc6bd5ea03f15960a977abc065f0.png'}]"
      ]
     },
     "execution_count": 128,
     "metadata": {},
     "output_type": "execute_result"
    }
   ],
   "source": [
    "ingredients_img_link"
   ]
  },
  {
   "cell_type": "code",
   "execution_count": null,
   "metadata": {},
   "outputs": [],
   "source": []
  }
 ],
 "metadata": {
  "kernelspec": {
   "display_name": "Python 3",
   "language": "python",
   "name": "python3"
  },
  "language_info": {
   "codemirror_mode": {
    "name": "ipython",
    "version": 3
   },
   "file_extension": ".py",
   "mimetype": "text/x-python",
   "name": "python",
   "nbconvert_exporter": "python",
   "pygments_lexer": "ipython3",
   "version": "3.9.5"
  },
  "orig_nbformat": 4
 },
 "nbformat": 4,
 "nbformat_minor": 2
}
